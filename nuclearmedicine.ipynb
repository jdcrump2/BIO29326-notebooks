{
 "cells": [
  {
   "cell_type": "code",
   "execution_count": null,
   "metadata": {
    "collapsed": true
   },
   "outputs": [],
   "source": [
    "from ipywidgets import *\n",
    "from scipy import ndimage\n",
    "from scipy import signal\n",
    "import matplotlib as mpl\n",
    "import matplotlib.pyplot as plt\n",
    "mpl.rcParams.update(mpl.rcParamsDefault)\n",
    "import numpy as np\n",
    "%matplotlib notebook\n",
    "from matplotlib.image import imread\n",
    "from numpy.fft  import fft2, ifft2, fftshift, ifftshift"
   ]
  },
  {
   "cell_type": "code",
   "execution_count": null,
   "metadata": {
    "slideshow": {
     "slide_type": "slide"
    }
   },
   "outputs": [],
   "source": [
    "#First we will open an image and create a Gaussian PSF, then blur \n",
    "\n",
    "def np_fftconvolve(A, B):\n",
    "    return np.real(fftshift(ifft2(fft2(A)*fft2(B, s=A.shape))))\n",
    "\n",
    "N=256\n",
    "\n",
    "im = imread('assets/brain.tif')[0:N,0:N].astype(np.float64)\n",
    "\n",
    "# Calculate a Gaussian filter whose width depends on the collimator parameters\n",
    "# L is septa length, d opening, z distance, t thickness\n",
    "# These are in the same units as the pixel size of the image\n",
    "\n",
    "L = 4.0\n",
    "d = 1.0\n",
    "z = 10.0\n",
    "t = 0.1\n",
    "\n",
    "sig = d*(L+z)/L\n",
    "G = (d**2/(L*(d+t)))**2\n",
    "\n",
    "x = (N/2)*np.linspace(-1, 1, im.shape[0])\n",
    "y = (N/2)*np.linspace(-1, 1, im.shape[1])\n",
    "xx, yy = np.meshgrid(x, y)\n",
    "psf1 = np.zeros_like(im)\n",
    "psf1 = (1.0/(sig*np.sqrt(2.0*np.pi))*np.exp(-(xx**2 + yy**2)/(2.0*sig**2))) \n",
    "psf1 = psf1/np.sum(psf1) # normalize\n",
    "\n",
    "#imfilt = signal.convolve2d(im, filt, boundary='symm', mode='same')\n",
    "imfilt1 = np_fftconvolve(im, psf1)\n",
    "\n",
    "fig, ax = plt.subplots(2, 3, figsize=(9,6))\n",
    "fig.suptitle(\"The imaging equation: blurring\", fontsize=16)\n",
    "\n",
    "# Plot original\n",
    "ax[0,0].imshow(im, cmap='gray')\n",
    "ax[0,1].imshow(psf1,cmap='gray')\n",
    "ax[0,2].imshow(imfilt1,cmap='gray')\n",
    "\n",
    "ax[0,0].set_title('Original')\n",
    "ax[0,1].set_title('Gaussian PSF')\n",
    "ax[0,2].set_title('Blurred')\n",
    "\n",
    "ax[1,0].plot(im[128,:])\n",
    "ax[1,1].plot(psf1[128,:])\n",
    "ax[1,2].plot(imfilt1[128,:])\n",
    "\n",
    "fig.tight_layout()\n",
    "fig.subplots_adjust(top=0.88)"
   ]
  },
  {
   "cell_type": "markdown",
   "metadata": {
    "slideshow": {
     "slide_type": "notes"
    }
   },
   "source": [
    "Play with the collimator parameters"
   ]
  },
  {
   "cell_type": "code",
   "execution_count": null,
   "metadata": {
    "slideshow": {
     "slide_type": "slide"
    }
   },
   "outputs": [],
   "source": [
    "# Now let's add noise\n",
    "\n",
    "# Activity is a collimator indeodent factor reflecting the overall radioactivity level. \n",
    "# G is the geomteric activity of the coolimator above\n",
    "\n",
    "activity = 100.0\n",
    "noise_level = activity*G\n",
    "impoisson = np.random.poisson(imfilt1*noise_level+1)\n",
    "\n",
    "fig, ax = plt.subplots(2, 3, figsize=(9,6))\n",
    "fig.suptitle(\"Now with noise\", fontsize=16)\n",
    "\n",
    "# Plot original\n",
    "ax[0,0].imshow(im, cmap='gray')\n",
    "ax[0,1].imshow(psf1,cmap='gray')\n",
    "ax[0,2].imshow(impoisson,cmap='gray')\n",
    "\n",
    "ax[0,0].set_title('Original')\n",
    "ax[0,1].set_title('Gaussian PSF')\n",
    "ax[0,2].set_title('Blurred')\n",
    "\n",
    "ax[1,0].plot(im[128,:])\n",
    "ax[1,1].plot(psf1[128,:])\n",
    "ax[1,2].plot(impoisson[128,:])"
   ]
  },
  {
   "cell_type": "code",
   "execution_count": null,
   "metadata": {
    "collapsed": true
   },
   "outputs": [],
   "source": []
  }
 ],
 "metadata": {
  "celltoolbar": "Slideshow",
  "kernelspec": {
   "display_name": "Python 3",
   "language": "python",
   "name": "python3"
  },
  "language_info": {
   "codemirror_mode": {
    "name": "ipython",
    "version": 3
   },
   "file_extension": ".py",
   "mimetype": "text/x-python",
   "name": "python",
   "nbconvert_exporter": "python",
   "pygments_lexer": "ipython3",
   "version": "3.6.8"
  }
 },
 "nbformat": 4,
 "nbformat_minor": 2
}
