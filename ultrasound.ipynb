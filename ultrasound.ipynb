{
 "cells": [
  {
   "cell_type": "markdown",
   "metadata": {},
   "source": [
    "TODO Ideas\n",
    "\n",
    "TODO: Read and understand the code. Notice that we're only plotting in the far field. \n",
    "\n",
    "TODO: Use the zoom tool to zoom in on the aperture.\n",
    "\n",
    "TODO: Double/halve the aperture size/wavelength. How does the far field region change? How does the far field pattern change?"
   ]
  },
  {
   "cell_type": "code",
   "execution_count": null,
   "metadata": {},
   "outputs": [],
   "source": [
    "# Importing libraries\n",
    "from ipywidgets import *\n",
    "import matplotlib as mpl\n",
    "import matplotlib.pyplot as plt\n",
    "mpl.rcParams.update(mpl.rcParamsDefault)\n",
    "import numpy as np\n",
    "%matplotlib notebook\n",
    "    \n",
    "N = 2**8 \n",
    "q = np.zeros([N, N, N])\n",
    "\n",
    "x = 128.0*np.linspace(-1, 1, N)\n",
    "y = 128.0*np.linspace(-1, 1, N)\n",
    "xx, yy = np.meshgrid(x, y)\n",
    "\n",
    "lam = 0.1 # Wavelength\n",
    "a = 1.0 # Aperture size\n",
    "\n",
    "farfield = a**2/lam\n",
    "\n",
    "z = np.linspace(farfield, farfield + N, N)\n",
    "\n",
    "for i in range(0,255,1):\n",
    "    q[:,:,i]=(a**4/z[i]**2) * (np.sinc((a*xx)/(lam*z[i]))**2 * (np.sinc((a*yy)/(lam*z[i]))**2))\n",
    " \n",
    "qlog = np.log(q + 1e-12) # Log transform (add small number to avoid underflow issues)\n",
    "                                                              \n",
    "f, axs = plt.subplots(1, 3, figsize=(8,8/3))                    \n",
    "\n",
    "# Plot transverse\n",
    "axs[0].imshow(q[:,:,N//2], cmap='gray', extent=(-N//2, N//2, -N//2, N//2))\n",
    "\n",
    "# Plot log transverse\n",
    "axs[1].imshow(qlog[:,:,N//2], cmap='gray', extent=(-N//2, N//2, -N//2, N//2))\n",
    "\n",
    "# Plot log axial\n",
    "axs[2].imshow(qlog[:,N//2,:], cmap='gray', extent=(farfield, N+farfield, -N//2, N//2))\n",
    "axs[2].set_xlim([-5,N])\n",
    "axs[2].set_ylim([-N//2,N//2])\n",
    "axs[2].plot(2*[0],[-a/2,-N/2],'-r', lw=0.5)\n",
    "axs[2].plot(2*[0],[a/2,N/2],'-r', lw=0.5)\n",
    "\n",
    "# Labels\n",
    "axs[0].set_title('Field intens. ax. slice 128')\n",
    "axs[1].set_title('Log of left panel')\n",
    "axs[2].set_title('Log intens. central trans. slice')"
   ]
  },
  {
   "cell_type": "code",
   "execution_count": null,
   "metadata": {
    "collapsed": true
   },
   "outputs": [],
   "source": []
  }
 ],
 "metadata": {
  "kernelspec": {
   "display_name": "Python 3",
   "language": "python",
   "name": "python3"
  },
  "language_info": {
   "codemirror_mode": {
    "name": "ipython",
    "version": 3
   },
   "file_extension": ".py",
   "mimetype": "text/x-python",
   "name": "python",
   "nbconvert_exporter": "python",
   "pygments_lexer": "ipython3",
   "version": "3.6.8"
  }
 },
 "nbformat": 4,
 "nbformat_minor": 2
}
